{
 "cells": [
  {
   "cell_type": "code",
   "execution_count": null,
   "metadata": {},
   "outputs": [],
   "source": [
    "import matplotlib.pyplot as plt\n",
    "\n",
    "maze_data = [\n",
    "    [3, 0, 1, 1, 1, 1, 1, 1, 1, 1],\n",
    "    [1, 0, 0, 0, 1, 0, 1, 0, 0, 1],\n",
    "    [1, 0, 1, 0, 1, 0, 1, 0, 1, 1],\n",
    "    [1, 0, 1, 0, 0, 0, 1, 0, 0, 1],\n",
    "    [1, 0, 1, 1, 1, 0, 1, 1, 0, 1],\n",
    "    [1, 0, 0, 0, 1, 0, 0, 0, 0, 1],\n",
    "    [1, 1, 1, 0, 1, 1, 1, 1, 0, 1],\n",
    "    [1, 1, 1, 0, 1, 1, 1, 0, 0, 1],\n",
    "    [1, 1, 1, 0, 0, 0, 0, 0, 1, 1],\n",
    "    [1, 1, 1, 1, 1, 1, 1, 0, 0, 2]\n",
    "]\n",
    "\n",
    "path1 = [(0, 0), (0, 1), (1, 1), (2, 1), (3, 1), (4, 1), (5, 1), (5, 2), (5, 3), (6, 3), (7, 3), (8, 3), (8, 4), (8, 5), (8, 6), (8, 7), (9, 7), (9, 8), (9, 9)]\n",
    "path2 = [(0, 0), (0, 1), (1, 1), (1, 2), (1, 3), (2, 3), (3, 3), (3, 4), (3, 5), (4, 5), (5, 5), (5, 6), (5, 7), (5, 8), (6, 8), (7, 8), (7, 7), (8, 7), (9, 7), (9, 8), (9, 9)]\n",
    "# Create the maze figure\n",
    "fig, ax = plt.subplots()\n",
    "ax.set_title(\"Maze\")\n",
    "ax.set_xticks(range(len(maze_data[0])))\n",
    "ax.set_yticks(range(len(maze_data)))\n",
    "ax.set_xticklabels([])\n",
    "ax.set_yticklabels([])\n",
    "\n",
    "# Plot the maze\n",
    "ax.imshow(maze_data, cmap='binary')\n",
    "\n",
    "# Plot the Q-Learning path\n",
    "ql_x = [pos[1] for pos in path1]\n",
    "ql_y = [pos[0] for pos in path1]\n",
    "ax.plot(ql_x, ql_y, color='red', label='Q-Learning')\n",
    "\n",
    "# Plot the DFS path\n",
    "dfs_x = [pos[1] for pos in path2]\n",
    "dfs_y = [pos[0] for pos in path2]\n",
    "ax.plot(dfs_x, dfs_y, color='blue', label='DFS')\n",
    "\n",
    "# Mark the start and end points\n",
    "ax.scatter(0, 0, color='green', marker='o', label='Start')\n",
    "ax.scatter(9, 9, color='purple', marker='o', label='End')\n",
    "\n",
    "# Add legend\n",
    "ax.legend()\n",
    "\n",
    "# Show the figure\n",
    "plt.show()"
   ]
  }
 ],
 "metadata": {
  "language_info": {
   "name": "python"
  },
  "orig_nbformat": 4
 },
 "nbformat": 4,
 "nbformat_minor": 2
}
